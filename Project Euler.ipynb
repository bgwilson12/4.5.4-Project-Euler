{
 "cells": [
  {
   "cell_type": "markdown",
   "metadata": {},
   "source": [
    "# Problem 1"
   ]
  },
  {
   "cell_type": "code",
   "execution_count": 1,
   "metadata": {},
   "outputs": [
    {
     "data": {
      "text/plain": [
       "233168"
      ]
     },
     "execution_count": 1,
     "metadata": {},
     "output_type": "execute_result"
    }
   ],
   "source": [
    "threes = [x for x in range(3, 1000, 3)]\n",
    "fives = [y for y in range (5, 999, 5)]\n",
    "nums = list(set(fives+threes))\n",
    "sum(nums)"
   ]
  },
  {
   "cell_type": "code",
   "execution_count": 2,
   "metadata": {},
   "outputs": [
    {
     "data": {
      "text/plain": [
       "[3, 5, 6, 9, 10, 12, 15, 18, 20, 21]"
      ]
     },
     "execution_count": 2,
     "metadata": {},
     "output_type": "execute_result"
    }
   ],
   "source": [
    "nums[:10]"
   ]
  },
  {
   "cell_type": "code",
   "execution_count": 3,
   "metadata": {},
   "outputs": [
    {
     "data": {
      "text/plain": [
       "[980, 981, 984, 985, 987, 990, 993, 995, 996, 999]"
      ]
     },
     "execution_count": 3,
     "metadata": {},
     "output_type": "execute_result"
    }
   ],
   "source": [
    "nums[-10:]"
   ]
  },
  {
   "cell_type": "markdown",
   "metadata": {},
   "source": [
    "# Problem 2"
   ]
  },
  {
   "cell_type": "code",
   "execution_count": 4,
   "metadata": {},
   "outputs": [
    {
     "data": {
      "text/plain": [
       "4613732"
      ]
     },
     "execution_count": 4,
     "metadata": {},
     "output_type": "execute_result"
    }
   ],
   "source": [
    "highest = 0\n",
    "fib_list = [1, 1]\n",
    "i = 0\n",
    "while fib_list[-1] <= 4000000:\n",
    "    fib_list.append(fib_list[i] + fib_list[i+1])\n",
    "    i += 1\n",
    "fib_list = fib_list[:-1]\n",
    "\n",
    "even_sum = 0\n",
    "for num in fib_list:\n",
    "    if num % 2 == 0:\n",
    "        even_sum += num\n",
    "\n",
    "even_sum"
   ]
  },
  {
   "cell_type": "markdown",
   "metadata": {},
   "source": [
    "# Problem 3"
   ]
  },
  {
   "cell_type": "code",
   "execution_count": 5,
   "metadata": {},
   "outputs": [],
   "source": [
    "from functools import reduce\n",
    "\n",
    "def factors(n):    \n",
    "    return set(reduce(list.__add__, \n",
    "                ([i, n//i] for i in range(1, int(pow(n, 0.5) + 1)) if n % i == 0)))"
   ]
  },
  {
   "cell_type": "code",
   "execution_count": 6,
   "metadata": {},
   "outputs": [
    {
     "data": {
      "text/plain": [
       "[1,\n",
       " 71,\n",
       " 839,\n",
       " 1471,\n",
       " 6857,\n",
       " 59569,\n",
       " 104441,\n",
       " 486847,\n",
       " 1234169,\n",
       " 5753023,\n",
       " 10086647,\n",
       " 87625999,\n",
       " 408464633,\n",
       " 716151937,\n",
       " 8462696833,\n",
       " 600851475143]"
      ]
     },
     "execution_count": 6,
     "metadata": {},
     "output_type": "execute_result"
    }
   ],
   "source": [
    "factors_ = sorted(list(factors(600851475143)))\n",
    "factors_"
   ]
  },
  {
   "cell_type": "code",
   "execution_count": 7,
   "metadata": {},
   "outputs": [
    {
     "name": "stdout",
     "output_type": "stream",
     "text": [
      "1471\n"
     ]
    },
    {
     "data": {
      "text/plain": [
       "408464633.0"
      ]
     },
     "execution_count": 7,
     "metadata": {},
     "output_type": "execute_result"
    }
   ],
   "source": [
    "idx = 3\n",
    "print(factors_[idx])\n",
    "600851475143 / factors_[idx]"
   ]
  },
  {
   "cell_type": "code",
   "execution_count": 8,
   "metadata": {},
   "outputs": [
    {
     "name": "stdout",
     "output_type": "stream",
     "text": [
      "{1}\n",
      "{1, 71}\n",
      "{1, 839}\n",
      "{1, 1471}\n",
      "{1, 6857}\n",
      "{1, 59569, 839, 71}\n",
      "{1, 1471, 104441, 71}\n",
      "{1, 6857, 71, 486847}\n",
      "{1, 1471, 1234169, 839}\n",
      "{1, 6857, 839, 5753023}\n",
      "{1, 6857, 1471, 10086647}\n",
      "{1, 839, 71, 87625999, 59569, 1234169, 104441, 1471}\n",
      "{1, 839, 71, 486847, 6857, 59569, 408464633, 5753023}\n",
      "{1, 716151937, 71, 486847, 6857, 10086647, 104441, 1471}\n",
      "{1, 8462696833, 5753023, 839, 6857, 10086647, 1234169, 1471}\n",
      "{1, 8462696833, 716151937, 5753023, 1234169, 839, 71, 600851475143, 6857, 486847, 87625999, 59569, 10086647, 408464633, 104441, 1471}\n"
     ]
    }
   ],
   "source": [
    "# is each factor in the list prime?\n",
    "for each in factors_:\n",
    "    print(factors(each))"
   ]
  },
  {
   "cell_type": "markdown",
   "metadata": {},
   "source": [
    "From the above, we can see that the largest prime factor is 6857"
   ]
  },
  {
   "cell_type": "markdown",
   "metadata": {},
   "source": [
    "# Problem 4"
   ]
  },
  {
   "cell_type": "code",
   "execution_count": 9,
   "metadata": {},
   "outputs": [],
   "source": [
    "# The largest multiple would be 999 * 999, so let's start there.\n",
    "palindrome_list = []\n",
    "for i in range(900):\n",
    "    first_num = 1000 - i\n",
    "    for j in range(900):\n",
    "        second_num = 1000 - j\n",
    "        num_string = str(first_num * second_num)\n",
    "        if num_string == num_string[::-1]:\n",
    "            palindrome_list.append(first_num * second_num)\n",
    "            "
   ]
  },
  {
   "cell_type": "code",
   "execution_count": 10,
   "metadata": {},
   "outputs": [
    {
     "data": {
      "text/plain": [
       "906609"
      ]
     },
     "execution_count": 10,
     "metadata": {},
     "output_type": "execute_result"
    }
   ],
   "source": [
    "max(palindrome_list)"
   ]
  },
  {
   "cell_type": "markdown",
   "metadata": {},
   "source": [
    "# Problem 5"
   ]
  },
  {
   "cell_type": "code",
   "execution_count": 11,
   "metadata": {},
   "outputs": [],
   "source": [
    "def factorial(n):\n",
    "    if n == 1:\n",
    "        return 1\n",
    "    else:\n",
    "        return n * factorial(n - 1)"
   ]
  },
  {
   "cell_type": "code",
   "execution_count": 12,
   "metadata": {},
   "outputs": [
    {
     "data": {
      "text/plain": [
       "3628800"
      ]
     },
     "execution_count": 12,
     "metadata": {},
     "output_type": "execute_result"
    }
   ],
   "source": [
    "factorial(10)"
   ]
  },
  {
   "cell_type": "code",
   "execution_count": 13,
   "metadata": {},
   "outputs": [
    {
     "data": {
      "text/plain": [
       "[[3, 1],\n",
       " [2, 1, 1, 2, 4],\n",
       " [5, 1],\n",
       " [3, 2, 1, 1, 2, 3, 6],\n",
       " [7, 1],\n",
       " [2, 1, 8, 1, 2, 4, 1, 2, 4],\n",
       " [3, 1, 1, 3, 9],\n",
       " [5, 2, 1, 1, 10, 2, 5],\n",
       " [11, 1],\n",
       " [3, 2, 1, 1, 2, 3, 4, 6, 12, 1, 2, 3, 6, 1, 2, 4],\n",
       " [13, 1],\n",
       " [7, 2, 1, 1, 2, 14, 7],\n",
       " [5, 3, 1, 1, 3, 5, 15],\n",
       " [2, 1, 1, 2, 4, 8, 16, 8, 1, 2, 4, 1, 2, 4],\n",
       " [17, 1],\n",
       " [3, 2, 1, 1, 2, 3, 6, 9, 18, 1, 3, 9, 1, 2, 3, 6],\n",
       " [19, 1],\n",
       " [5, 4, 2, 1, 1, 2, 4, 5, 10, 20, 1, 10, 2, 5]]"
      ]
     },
     "execution_count": 13,
     "metadata": {},
     "output_type": "execute_result"
    }
   ],
   "source": [
    "factors_list = [list(factors(i)) for i in range(2, 21)]\n",
    "\n",
    "prime_factors = []\n",
    "for each in factors_list[1:]:\n",
    "    each = sorted(each, reverse=True)\n",
    "    done = False\n",
    "    while not done:\n",
    "        if sorted(list(factors(each[0]))) != [1, each[0]]:\n",
    "            composite = each.pop(0)\n",
    "            composite_factors = factors(composite)\n",
    "            each.extend(list(composite_factors))\n",
    "        else:\n",
    "            prime_factors.append(each)\n",
    "            done = True\n",
    "\n",
    "# Numbers 1 through 20, reduced to their prime factorsb\n",
    "prime_factors"
   ]
  },
  {
   "cell_type": "markdown",
   "metadata": {},
   "source": [
    "I just did this one in my head"
   ]
  },
  {
   "cell_type": "code",
   "execution_count": 14,
   "metadata": {},
   "outputs": [
    {
     "data": {
      "text/plain": [
       "232792560"
      ]
     },
     "execution_count": 14,
     "metadata": {},
     "output_type": "execute_result"
    }
   ],
   "source": [
    "1*2*2*2*2*3*3*5*7*11*13*17*19"
   ]
  },
  {
   "cell_type": "markdown",
   "metadata": {},
   "source": [
    "# Problem 6"
   ]
  },
  {
   "cell_type": "code",
   "execution_count": 15,
   "metadata": {},
   "outputs": [
    {
     "data": {
      "text/plain": [
       "25164150"
      ]
     },
     "execution_count": 15,
     "metadata": {},
     "output_type": "execute_result"
    }
   ],
   "source": [
    "sum_of_squares = sum([x**2 for x in range(1, 101)])\n",
    "square_of_sums = sum([x for x in range(1, 101)]) ** 2\n",
    "square_of_sums - sum_of_squares"
   ]
  },
  {
   "cell_type": "markdown",
   "metadata": {},
   "source": [
    "# Problem 7"
   ]
  },
  {
   "cell_type": "code",
   "execution_count": 16,
   "metadata": {},
   "outputs": [
    {
     "data": {
      "text/plain": [
       "True"
      ]
     },
     "execution_count": 16,
     "metadata": {},
     "output_type": "execute_result"
    }
   ],
   "source": [
    "def is_prime(x):\n",
    "    if sorted(list(factors(x))) == [1, x]:\n",
    "        return True\n",
    "    else:\n",
    "        return False\n",
    "\n",
    "is_prime(11)"
   ]
  },
  {
   "cell_type": "code",
   "execution_count": 17,
   "metadata": {},
   "outputs": [
    {
     "name": "stdout",
     "output_type": "stream",
     "text": [
      "15391\n"
     ]
    },
    {
     "data": {
      "text/plain": [
       "548"
      ]
     },
     "execution_count": 17,
     "metadata": {},
     "output_type": "execute_result"
    }
   ],
   "source": [
    "import pickle\n",
    "import numpy as np\n",
    "import math\n",
    "\n",
    "def nth_prime_number(n):\n",
    "    try:\n",
    "        list_of_primes = pickle.load(open('list_of_primes.pkl', 'rb'))\n",
    "    except:\n",
    "        # First 10 primes for free!\n",
    "        list_of_primes = [2, 3, 5, 7, 11, 13, 17, 19, 23, 29]\n",
    "        pickle.dump(list_of_primes, open('list_of_primes.pkl', 'wb'))\n",
    "    \n",
    "    while len(list_of_primes) < n:\n",
    "        old_length = len(list_of_primes)\n",
    "        interval_extend = 100000\n",
    "        interval_start = list_of_primes[-1] + 1\n",
    "        interval_end = interval_start + interval_extend\n",
    "        \n",
    "        # Set up a boolean array for the new numbers to sift through\n",
    "        bool_interval = np.ones(interval_extend, dtype=bool)\n",
    "        for num in list_of_primes:\n",
    "            # this sets up the bool index as the number it represents in the interval,\n",
    "            # starting with the first multiple\n",
    "            first_index = math.ceil((interval_start)/ num) * num - (interval_start)\n",
    "            bool_interval[range(first_index, interval_extend, num)] = False\n",
    "        \n",
    "        original_list = list_of_primes.copy()\n",
    "        \n",
    "        # Money shot\n",
    "        list_of_primes.extend(np.linspace(interval_start, \n",
    "                                          interval_end, \n",
    "                                          interval_extend, \n",
    "                                          dtype=int)[bool_interval].tolist())\n",
    "        i = old_length\n",
    "        while i < len(list_of_primes):\n",
    "            if bool_interval[i - old_length]:\n",
    "                p = list_of_primes[i]\n",
    "#                 print(p, i)\n",
    "                bool_interval[range(i-old_length+p-1, interval_extend, p)] = False\n",
    "                temp_list = original_list.copy()\n",
    "                \n",
    "                list_of_primes = temp_list\n",
    "                list_of_primes.extend(np.linspace(interval_start+1, \n",
    "                                                  interval_end, \n",
    "                                                  interval_extend, \n",
    "                                                  dtype=int)[bool_interval].tolist())\n",
    "#                 print(i)\n",
    "                \n",
    "            i += 1 \n",
    "        print(i)\n",
    "    # Now that we have at least n primes in our list, return the nth prime\n",
    "    return list_of_primes[n-1]\n",
    "    \n",
    "    \n",
    "    \n",
    "    \n",
    "nth_prime_number(100)"
   ]
  },
  {
   "cell_type": "code",
   "execution_count": 80,
   "metadata": {},
   "outputs": [
    {
     "data": {
      "text/plain": [
       "104743"
      ]
     },
     "execution_count": 80,
     "metadata": {},
     "output_type": "execute_result"
    }
   ],
   "source": [
    "import pickle\n",
    "\n",
    "def nth_prime(n):\n",
    "    try:\n",
    "        list_of_primes = pickle.load(open('list_of_primes.pkl', 'rb'))\n",
    "    except:\n",
    "        # First 10 primes for free!\n",
    "        list_of_primes = [2, 3, 5, 7, 11, 13, 17, 19, 23, 29]\n",
    "        pickle.dump(list_of_primes, open('list_of_primes.pkl', 'wb'))\n",
    "\n",
    "\n",
    "    while len(list_of_primes) < n:\n",
    "        # Some variables we will need\n",
    "        old_length = len(list_of_primes)\n",
    "        interval_extend = 100000\n",
    "        interval_start = list_of_primes[-1] + 1\n",
    "        interval_end = interval_start + interval_extend\n",
    "\n",
    "        # Set up a boolean array for the new numbers to sift through\n",
    "        bool_interval = np.ones(interval_extend, dtype=bool)\n",
    "        for num in list_of_primes:\n",
    "            # this sets up the bool index as the number it represents in the interval,\n",
    "            # starting with the first multiple\n",
    "            first_index = math.ceil((interval_start)/ num) * num - (interval_start)\n",
    "            bool_interval[range(first_index, interval_extend, num)] = False\n",
    "            \n",
    "        i = interval_start\n",
    "        while i < np.sqrt(list_of_primes[-1] + interval_extend) + 2:\n",
    "            if bool_interval[i - interval_start]:\n",
    "                bool_interval[range(2*i - interval_start, interval_extend, i)] = False\n",
    "            i += 1 \n",
    "\n",
    "        list_of_primes.extend(np.linspace(interval_start, \n",
    "                                      interval_end, \n",
    "                                      interval_extend, \n",
    "                                      dtype=int)[bool_interval].tolist())\n",
    "    # Now, save the list of primes in case we ever need them again\n",
    "    pickle.dump(list_of_primes, open('list_of_primes.pkl', 'wb'))\n",
    "    # Now that we have at least n primes in our list, return the nth prime\n",
    "    return list_of_primes[n - 1]\n",
    "\n",
    "nth_prime(10001)"
   ]
  },
  {
   "cell_type": "markdown",
   "metadata": {},
   "source": [
    "# Problem 8"
   ]
  },
  {
   "cell_type": "code",
   "execution_count": 99,
   "metadata": {},
   "outputs": [
    {
     "name": "stdout",
     "output_type": "stream",
     "text": [
      "23514624000\n"
     ]
    }
   ],
   "source": [
    "import operator\n",
    "# Let's save it as a string for indexing through it\n",
    "big_ass_number = ('73167176531330624919225119674426574742355349194934'\n",
    "                  '96983520312774506326239578318016984801869478851843'\n",
    "                  '85861560789112949495459501737958331952853208805511'\n",
    "                  '12540698747158523863050715693290963295227443043557'\n",
    "                  '66896648950445244523161731856403098711121722383113'\n",
    "                  '62229893423380308135336276614282806444486645238749'\n",
    "                  '30358907296290491560440772390713810515859307960866'\n",
    "                  '70172427121883998797908792274921901699720888093776'\n",
    "                  '65727333001053367881220235421809751254540594752243'\n",
    "                  '52584907711670556013604839586446706324415722155397'\n",
    "                  '53697817977846174064955149290862569321978468622482'\n",
    "                  '83972241375657056057490261407972968652414535100474'\n",
    "                  '82166370484403199890008895243450658541227588666881'\n",
    "                  '16427171479924442928230863465674813919123162824586'\n",
    "                  '17866458359124566529476545682848912883142607690042'\n",
    "                  '24219022671055626321111109370544217506941658960408'\n",
    "                  '07198403850962455444362981230987879927244284909188'\n",
    "                  '84580156166097919133875499200524063689912560717606'\n",
    "                  '05886116467109405077541002256983155200055935729725'\n",
    "                  '71636269561882670428252483600823257530420752963450')\n",
    "\n",
    "products = []\n",
    "for i in range(len(big_ass_number)-12):\n",
    "    adj_nums = big_ass_number[i:i+13]\n",
    "    adj_nums = [int(digit) for digit in adj_nums]\n",
    "    adj_prod = (reduce(lambda x, y: x*y, adj_nums))\n",
    "    products.append(adj_prod)\n",
    "    \n",
    "print(max(products))"
   ]
  },
  {
   "cell_type": "markdown",
   "metadata": {},
   "source": [
    "# Problem 9"
   ]
  },
  {
   "cell_type": "code",
   "execution_count": 106,
   "metadata": {},
   "outputs": [
    {
     "name": "stdout",
     "output_type": "stream",
     "text": [
      "31875000\n"
     ]
    }
   ],
   "source": [
    "# Here, we have two equations\n",
    "# a + b + c = 1000\n",
    "# and\n",
    "# a^2 + b^2 + c^2\n",
    "# We also have the constraint a < b < c\n",
    "# The lowest value of c is 335\n",
    "# Ehh. Just brute force it\n",
    "for c in range(1, 1001):\n",
    "    for b in range(1, 1000-c):\n",
    "        a = 1000 - b - c\n",
    "        if b > c:\n",
    "            continue\n",
    "        if a > b:\n",
    "            continue\n",
    "        if a**2 + b**2 == c**2:\n",
    "            print(a*b*c)"
   ]
  },
  {
   "cell_type": "markdown",
   "metadata": {},
   "source": [
    "Way easier :)"
   ]
  },
  {
   "cell_type": "markdown",
   "metadata": {},
   "source": [
    "# Problem 10"
   ]
  },
  {
   "cell_type": "code",
   "execution_count": 203,
   "metadata": {},
   "outputs": [
    {
     "name": "stdout",
     "output_type": "stream",
     "text": [
      "2 2\n",
      "3 3\n",
      "5 5\n",
      "7 7\n",
      "11 11\n"
     ]
    }
   ],
   "source": [
    "# Let's use the list of prime numbers we saved in an earlier problem.\n",
    "# Good thing we pickled it!\n",
    "# Note, I had to increase the number of primes by running it a few times\n",
    "primes_list = pickle.load(open('list_of_primes.pkl', 'rb'))\n",
    "\n",
    "n = 100017\n",
    "while primes_list[-1] < 2100000:\n",
    "    print('Adding more numbers to primes')\n",
    "    nth_prime(n)\n",
    "    primes_list = pickle.load(open('list_of_primes.pkl', 'rb'))\n",
    "    n += 100000\n",
    "\n",
    "summation = 0\n",
    "blah = []\n",
    "for i, p in enumerate(primes_list):\n",
    "    if p < 2000000:\n",
    "        summation += p\n",
    "        blah.append(p)\n",
    "        if i < 5:\n",
    "            print(primes_list[i], p)\n",
    "    else:\n",
    "        break"
   ]
  },
  {
   "cell_type": "code",
   "execution_count": 201,
   "metadata": {},
   "outputs": [
    {
     "data": {
      "text/plain": [
       "142913828925"
      ]
     },
     "execution_count": 201,
     "metadata": {},
     "output_type": "execute_result"
    }
   ],
   "source": [
    "summation "
   ]
  },
  {
   "cell_type": "code",
   "execution_count": 188,
   "metadata": {},
   "outputs": [
    {
     "data": {
      "text/plain": [
       "142913828925"
      ]
     },
     "execution_count": 188,
     "metadata": {},
     "output_type": "execute_result"
    }
   ],
   "source": [
    "sum(blah)"
   ]
  },
  {
   "cell_type": "code",
   "execution_count": 189,
   "metadata": {},
   "outputs": [
    {
     "data": {
      "text/plain": [
       "142913828925"
      ]
     },
     "execution_count": 189,
     "metadata": {},
     "output_type": "execute_result"
    }
   ],
   "source": [
    "sum(primes_list[:148933])"
   ]
  },
  {
   "cell_type": "markdown",
   "metadata": {},
   "source": [
    "The answer, according to Wolfram Alpha, is in the cell below. I am so confused right now. My prime number generator works up to like 200,000 prime numbers. I've checked multiple sites and they all give the same output for the nth_prime(n). Yet, somehow my answer is off by 3?!?!? I checked the beginning of the list and it is correct: the number 3 only appears once in my list_of_primes. So that means that somewhere in the list, a difference of 3 somehow worked its way into the numbers without messing up the rest of the numbers. Hmm."
   ]
  },
  {
   "cell_type": "code",
   "execution_count": 198,
   "metadata": {},
   "outputs": [
    {
     "data": {
      "text/plain": [
       "142913828922"
      ]
     },
     "execution_count": 198,
     "metadata": {},
     "output_type": "execute_result"
    }
   ],
   "source": [
    "142913828922 # The answer..."
   ]
  },
  {
   "cell_type": "code",
   "execution_count": 196,
   "metadata": {},
   "outputs": [
    {
     "data": {
      "text/plain": [
       "3"
      ]
     },
     "execution_count": 196,
     "metadata": {},
     "output_type": "execute_result"
    }
   ],
   "source": [
    "summation - 142913828922"
   ]
  },
  {
   "cell_type": "code",
   "execution_count": 191,
   "metadata": {},
   "outputs": [],
   "source": [
    "for each in list_of_primes:\n",
    "    if sorted(list(factors(each))) != [1, each]:\n",
    "        print(each)"
   ]
  },
  {
   "cell_type": "markdown",
   "metadata": {},
   "source": [
    "This is infuriating. Every number in my list of primes is a prime number! Maybe there is a random 3 in the list somewhere? let's compare the length of the list to the length of the set of the list."
   ]
  },
  {
   "cell_type": "code",
   "execution_count": 192,
   "metadata": {},
   "outputs": [
    {
     "data": {
      "text/plain": [
       "9594"
      ]
     },
     "execution_count": 192,
     "metadata": {},
     "output_type": "execute_result"
    }
   ],
   "source": [
    "len(list_of_primes)"
   ]
  },
  {
   "cell_type": "code",
   "execution_count": 209,
   "metadata": {},
   "outputs": [
    {
     "data": {
      "text/plain": [
       "9594"
      ]
     },
     "execution_count": 209,
     "metadata": {},
     "output_type": "execute_result"
    }
   ],
   "source": [
    "len(list(set(list_of_primes)))"
   ]
  },
  {
   "cell_type": "code",
   "execution_count": 217,
   "metadata": {},
   "outputs": [
    {
     "data": {
      "text/plain": [
       "True"
      ]
     },
     "execution_count": 217,
     "metadata": {},
     "output_type": "execute_result"
    }
   ],
   "source": [
    "list_of_primes == sorted(list(set(list_of_primes)))"
   ]
  },
  {
   "cell_type": "code",
   "execution_count": 194,
   "metadata": {},
   "outputs": [
    {
     "data": {
      "text/plain": [
       "True"
      ]
     },
     "execution_count": 194,
     "metadata": {},
     "output_type": "execute_result"
    }
   ],
   "source": [
    "list_of_primes == sorted(list_of_primes)"
   ]
  },
  {
   "cell_type": "markdown",
   "metadata": {},
   "source": [
    "Yep. I give up. All numbers are unique, all numbers are primes, and the list does not change when it is sorted either. Why would my summation loop skip a 3? It's not even the first number!"
   ]
  },
  {
   "cell_type": "code",
   "execution_count": null,
   "metadata": {},
   "outputs": [],
   "source": [
    "\n",
    "\n",
    "\n",
    "\n",
    "\n",
    "\n",
    "\n",
    "\n",
    "\n",
    "\n",
    "\n",
    "\n",
    "\n",
    "\n",
    "\n"
   ]
  }
 ],
 "metadata": {
  "kernelspec": {
   "display_name": "Python 3",
   "language": "python",
   "name": "python3"
  },
  "language_info": {
   "codemirror_mode": {
    "name": "ipython",
    "version": 3
   },
   "file_extension": ".py",
   "mimetype": "text/x-python",
   "name": "python",
   "nbconvert_exporter": "python",
   "pygments_lexer": "ipython3",
   "version": "3.6.4"
  }
 },
 "nbformat": 4,
 "nbformat_minor": 2
}
